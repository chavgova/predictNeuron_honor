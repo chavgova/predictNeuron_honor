{
  "cells": [
    {
      "cell_type": "markdown",
      "metadata": {
        "id": "o5PLh8czD2y7"
      },
      "source": [
        "Imports"
      ]
    },
    {
      "cell_type": "code",
      "execution_count": 1,
      "metadata": {
        "id": "u4Y_UBaHDlNy"
      },
      "outputs": [],
      "source": [
        "import numpy as np\n",
        "import pandas as pd\n",
        "import os\n",
        "import matplotlib.pyplot as plt\n",
        "import glob\n",
        "import scipy.io\n",
        "from keras.models import Sequential\n",
        "from keras.layers import Dense, GRU\n",
        "from sklearn.model_selection import train_test_split\n",
        "from sklearn.preprocessing import MinMaxScaler\n"
      ]
    },
    {
      "cell_type": "markdown",
      "metadata": {
        "id": "4DK_BkwwD42w"
      },
      "source": [
        "Load Data"
      ]
    },
    {
      "cell_type": "code",
      "execution_count": 2,
      "metadata": {
        "id": "fBGcpIIRD70R"
      },
      "outputs": [],
      "source": [
        "label_data_folder = \"/content/drive/MyDrive/Single channels data/Marked spike vectors\"\n",
        "raw_data_folder = \"/content/drive/MyDrive/Single channels data/28102021_03_01_nbasal_0001/data\""
      ]
    },
    {
      "cell_type": "code",
      "execution_count": 3,
      "metadata": {
        "colab": {
          "base_uri": "https://localhost:8080/",
          "height": 462
        },
        "id": "PC4H5a8p0kwY",
        "outputId": "8585a486-dfe0-4e96-bbc5-2125e1cd0ba5"
      },
      "outputs": [
        {
          "output_type": "stream",
          "name": "stdout",
          "text": [
            "dict_keys(['A02', 'A05', 'A03', 'B07', 'B06', 'B01', 'B03', 'A06', 'B02', 'B05', 'C06', 'C03', 'C02', 'C05', 'C04', 'C01', 'D01', 'C07', 'D03', 'D02'])\n"
          ]
        },
        {
          "output_type": "execute_result",
          "data": {
            "text/plain": [
              "              A02       A05       A03       B07       B06       B01       B03  \\\n",
              "0       -1.921908 -4.485947  2.472312 -1.004966  2.960513  1.983918  1.373807   \n",
              "1       -1.250521 -6.561143  1.007469 -3.202231  0.824282  3.326691  1.495877   \n",
              "2        0.397428 -4.546983  2.167137 -1.981528 -1.311948  3.814972  1.312772   \n",
              "3       -4.546420 -3.936631  4.242332 -4.911216 -0.884702  4.364289 -2.166232   \n",
              "4       -2.715365 -7.415635  4.181297 -2.103599  3.815005  1.068390  3.449002   \n",
              "...           ...       ...       ...       ...       ...       ...       ...   \n",
              "2998995  0.153287 -1.006944 -2.532570 -0.821860  3.021548  3.143586  0.641385   \n",
              "2998996  0.763639 -2.166612 -3.326027  5.281655  3.143618  1.922882  3.937284   \n",
              "2998997  1.801236 -1.067979 -0.640481  0.765054  2.716372 -1.800262 -2.288302   \n",
              "2998998  5.097135 -9.979112  0.580223  0.398843 -0.884702  0.763215 -2.776583   \n",
              "2998999  3.632291 -2.227647  1.129539  0.093667  0.641177 -0.884735  0.580350   \n",
              "\n",
              "               A06       B02       B05       C06       C03       C02  \\\n",
              "0        -2.959032  0.274880 -0.762878  0.031140  3.020819  5.462379   \n",
              "1         0.886183 -0.030296  1.190247  0.580456  2.959784  4.119606   \n",
              "2         0.519972 -1.861351  1.922668  1.251843  0.335272  1.617165   \n",
              "3         1.557570 -1.983421  0.274719 -0.701282 -3.448907  0.457497   \n",
              "4        -0.334520  0.702126  4.791321 -0.884388  2.532538 -1.190453   \n",
              "...            ...       ...       ...       ...       ...       ...   \n",
              "2998995 -10.893602  1.983864  1.190247 -3.203724 -2.777521 -4.486351   \n",
              "2998996 -13.579149  4.547340 -2.349793 -2.410267 -3.387872  1.434059   \n",
              "2998997  -5.888719 -2.227562 -3.021179 -5.095814 -3.815118 -0.763207   \n",
              "2998998   2.534132 -0.701683 -2.471863 -5.645130 -0.763361 -1.068382   \n",
              "2998999   1.435499  1.251442  3.082336 -2.654407 -1.007501 -3.021507   \n",
              "\n",
              "              C05       C04       C01       D01       C07       D03       D02  \n",
              "0       -2.471503 -1.556942  0.885219 -0.762241 -1.067851  0.336652 -5.341440  \n",
              "1       -2.898749 -0.641415 -1.312047 -3.569858 -0.152323  2.106672 -4.609018  \n",
              "2        2.167169 -1.556942 -3.875523 -0.823276 -5.889628 -0.212664 -2.716929  \n",
              "3        1.190607  2.532413 -4.852086 -8.208530  1.922872  0.214582  1.921743  \n",
              "4        0.397150 -0.641415  1.800746  0.397427  0.458028 -0.212664 -1.130015  \n",
              "...           ...       ...       ...       ...       ...       ...       ...  \n",
              "2998995 -7.110175  2.715519  4.059047  0.397427  5.218770 -0.639910  1.799673  \n",
              "2998996 -5.645331  0.029972  2.838344 -4.058139  5.829122  2.717023  3.020376  \n",
              "2998997 -8.513983 -0.519344 -1.556187 -2.837436  2.716329 -5.034441  1.311392  \n",
              "2998998 -9.673651 -6.867001 -3.997594  0.214322  7.171895 -1.189227 -2.533823  \n",
              "2998999 -5.096014 -2.594540 -0.884801 -2.166050  5.096700 -1.067156  1.433462  \n",
              "\n",
              "[2999000 rows x 20 columns]"
            ],
            "text/html": [
              "\n",
              "  <div id=\"df-51f4676f-0748-4f02-9504-3a4606777c35\" class=\"colab-df-container\">\n",
              "    <div>\n",
              "<style scoped>\n",
              "    .dataframe tbody tr th:only-of-type {\n",
              "        vertical-align: middle;\n",
              "    }\n",
              "\n",
              "    .dataframe tbody tr th {\n",
              "        vertical-align: top;\n",
              "    }\n",
              "\n",
              "    .dataframe thead th {\n",
              "        text-align: right;\n",
              "    }\n",
              "</style>\n",
              "<table border=\"1\" class=\"dataframe\">\n",
              "  <thead>\n",
              "    <tr style=\"text-align: right;\">\n",
              "      <th></th>\n",
              "      <th>A02</th>\n",
              "      <th>A05</th>\n",
              "      <th>A03</th>\n",
              "      <th>B07</th>\n",
              "      <th>B06</th>\n",
              "      <th>B01</th>\n",
              "      <th>B03</th>\n",
              "      <th>A06</th>\n",
              "      <th>B02</th>\n",
              "      <th>B05</th>\n",
              "      <th>C06</th>\n",
              "      <th>C03</th>\n",
              "      <th>C02</th>\n",
              "      <th>C05</th>\n",
              "      <th>C04</th>\n",
              "      <th>C01</th>\n",
              "      <th>D01</th>\n",
              "      <th>C07</th>\n",
              "      <th>D03</th>\n",
              "      <th>D02</th>\n",
              "    </tr>\n",
              "  </thead>\n",
              "  <tbody>\n",
              "    <tr>\n",
              "      <th>0</th>\n",
              "      <td>-1.921908</td>\n",
              "      <td>-4.485947</td>\n",
              "      <td>2.472312</td>\n",
              "      <td>-1.004966</td>\n",
              "      <td>2.960513</td>\n",
              "      <td>1.983918</td>\n",
              "      <td>1.373807</td>\n",
              "      <td>-2.959032</td>\n",
              "      <td>0.274880</td>\n",
              "      <td>-0.762878</td>\n",
              "      <td>0.031140</td>\n",
              "      <td>3.020819</td>\n",
              "      <td>5.462379</td>\n",
              "      <td>-2.471503</td>\n",
              "      <td>-1.556942</td>\n",
              "      <td>0.885219</td>\n",
              "      <td>-0.762241</td>\n",
              "      <td>-1.067851</td>\n",
              "      <td>0.336652</td>\n",
              "      <td>-5.341440</td>\n",
              "    </tr>\n",
              "    <tr>\n",
              "      <th>1</th>\n",
              "      <td>-1.250521</td>\n",
              "      <td>-6.561143</td>\n",
              "      <td>1.007469</td>\n",
              "      <td>-3.202231</td>\n",
              "      <td>0.824282</td>\n",
              "      <td>3.326691</td>\n",
              "      <td>1.495877</td>\n",
              "      <td>0.886183</td>\n",
              "      <td>-0.030296</td>\n",
              "      <td>1.190247</td>\n",
              "      <td>0.580456</td>\n",
              "      <td>2.959784</td>\n",
              "      <td>4.119606</td>\n",
              "      <td>-2.898749</td>\n",
              "      <td>-0.641415</td>\n",
              "      <td>-1.312047</td>\n",
              "      <td>-3.569858</td>\n",
              "      <td>-0.152323</td>\n",
              "      <td>2.106672</td>\n",
              "      <td>-4.609018</td>\n",
              "    </tr>\n",
              "    <tr>\n",
              "      <th>2</th>\n",
              "      <td>0.397428</td>\n",
              "      <td>-4.546983</td>\n",
              "      <td>2.167137</td>\n",
              "      <td>-1.981528</td>\n",
              "      <td>-1.311948</td>\n",
              "      <td>3.814972</td>\n",
              "      <td>1.312772</td>\n",
              "      <td>0.519972</td>\n",
              "      <td>-1.861351</td>\n",
              "      <td>1.922668</td>\n",
              "      <td>1.251843</td>\n",
              "      <td>0.335272</td>\n",
              "      <td>1.617165</td>\n",
              "      <td>2.167169</td>\n",
              "      <td>-1.556942</td>\n",
              "      <td>-3.875523</td>\n",
              "      <td>-0.823276</td>\n",
              "      <td>-5.889628</td>\n",
              "      <td>-0.212664</td>\n",
              "      <td>-2.716929</td>\n",
              "    </tr>\n",
              "    <tr>\n",
              "      <th>3</th>\n",
              "      <td>-4.546420</td>\n",
              "      <td>-3.936631</td>\n",
              "      <td>4.242332</td>\n",
              "      <td>-4.911216</td>\n",
              "      <td>-0.884702</td>\n",
              "      <td>4.364289</td>\n",
              "      <td>-2.166232</td>\n",
              "      <td>1.557570</td>\n",
              "      <td>-1.983421</td>\n",
              "      <td>0.274719</td>\n",
              "      <td>-0.701282</td>\n",
              "      <td>-3.448907</td>\n",
              "      <td>0.457497</td>\n",
              "      <td>1.190607</td>\n",
              "      <td>2.532413</td>\n",
              "      <td>-4.852086</td>\n",
              "      <td>-8.208530</td>\n",
              "      <td>1.922872</td>\n",
              "      <td>0.214582</td>\n",
              "      <td>1.921743</td>\n",
              "    </tr>\n",
              "    <tr>\n",
              "      <th>4</th>\n",
              "      <td>-2.715365</td>\n",
              "      <td>-7.415635</td>\n",
              "      <td>4.181297</td>\n",
              "      <td>-2.103599</td>\n",
              "      <td>3.815005</td>\n",
              "      <td>1.068390</td>\n",
              "      <td>3.449002</td>\n",
              "      <td>-0.334520</td>\n",
              "      <td>0.702126</td>\n",
              "      <td>4.791321</td>\n",
              "      <td>-0.884388</td>\n",
              "      <td>2.532538</td>\n",
              "      <td>-1.190453</td>\n",
              "      <td>0.397150</td>\n",
              "      <td>-0.641415</td>\n",
              "      <td>1.800746</td>\n",
              "      <td>0.397427</td>\n",
              "      <td>0.458028</td>\n",
              "      <td>-0.212664</td>\n",
              "      <td>-1.130015</td>\n",
              "    </tr>\n",
              "    <tr>\n",
              "      <th>...</th>\n",
              "      <td>...</td>\n",
              "      <td>...</td>\n",
              "      <td>...</td>\n",
              "      <td>...</td>\n",
              "      <td>...</td>\n",
              "      <td>...</td>\n",
              "      <td>...</td>\n",
              "      <td>...</td>\n",
              "      <td>...</td>\n",
              "      <td>...</td>\n",
              "      <td>...</td>\n",
              "      <td>...</td>\n",
              "      <td>...</td>\n",
              "      <td>...</td>\n",
              "      <td>...</td>\n",
              "      <td>...</td>\n",
              "      <td>...</td>\n",
              "      <td>...</td>\n",
              "      <td>...</td>\n",
              "      <td>...</td>\n",
              "    </tr>\n",
              "    <tr>\n",
              "      <th>2998995</th>\n",
              "      <td>0.153287</td>\n",
              "      <td>-1.006944</td>\n",
              "      <td>-2.532570</td>\n",
              "      <td>-0.821860</td>\n",
              "      <td>3.021548</td>\n",
              "      <td>3.143586</td>\n",
              "      <td>0.641385</td>\n",
              "      <td>-10.893602</td>\n",
              "      <td>1.983864</td>\n",
              "      <td>1.190247</td>\n",
              "      <td>-3.203724</td>\n",
              "      <td>-2.777521</td>\n",
              "      <td>-4.486351</td>\n",
              "      <td>-7.110175</td>\n",
              "      <td>2.715519</td>\n",
              "      <td>4.059047</td>\n",
              "      <td>0.397427</td>\n",
              "      <td>5.218770</td>\n",
              "      <td>-0.639910</td>\n",
              "      <td>1.799673</td>\n",
              "    </tr>\n",
              "    <tr>\n",
              "      <th>2998996</th>\n",
              "      <td>0.763639</td>\n",
              "      <td>-2.166612</td>\n",
              "      <td>-3.326027</td>\n",
              "      <td>5.281655</td>\n",
              "      <td>3.143618</td>\n",
              "      <td>1.922882</td>\n",
              "      <td>3.937284</td>\n",
              "      <td>-13.579149</td>\n",
              "      <td>4.547340</td>\n",
              "      <td>-2.349793</td>\n",
              "      <td>-2.410267</td>\n",
              "      <td>-3.387872</td>\n",
              "      <td>1.434059</td>\n",
              "      <td>-5.645331</td>\n",
              "      <td>0.029972</td>\n",
              "      <td>2.838344</td>\n",
              "      <td>-4.058139</td>\n",
              "      <td>5.829122</td>\n",
              "      <td>2.717023</td>\n",
              "      <td>3.020376</td>\n",
              "    </tr>\n",
              "    <tr>\n",
              "      <th>2998997</th>\n",
              "      <td>1.801236</td>\n",
              "      <td>-1.067979</td>\n",
              "      <td>-0.640481</td>\n",
              "      <td>0.765054</td>\n",
              "      <td>2.716372</td>\n",
              "      <td>-1.800262</td>\n",
              "      <td>-2.288302</td>\n",
              "      <td>-5.888719</td>\n",
              "      <td>-2.227562</td>\n",
              "      <td>-3.021179</td>\n",
              "      <td>-5.095814</td>\n",
              "      <td>-3.815118</td>\n",
              "      <td>-0.763207</td>\n",
              "      <td>-8.513983</td>\n",
              "      <td>-0.519344</td>\n",
              "      <td>-1.556187</td>\n",
              "      <td>-2.837436</td>\n",
              "      <td>2.716329</td>\n",
              "      <td>-5.034441</td>\n",
              "      <td>1.311392</td>\n",
              "    </tr>\n",
              "    <tr>\n",
              "      <th>2998998</th>\n",
              "      <td>5.097135</td>\n",
              "      <td>-9.979112</td>\n",
              "      <td>0.580223</td>\n",
              "      <td>0.398843</td>\n",
              "      <td>-0.884702</td>\n",
              "      <td>0.763215</td>\n",
              "      <td>-2.776583</td>\n",
              "      <td>2.534132</td>\n",
              "      <td>-0.701683</td>\n",
              "      <td>-2.471863</td>\n",
              "      <td>-5.645130</td>\n",
              "      <td>-0.763361</td>\n",
              "      <td>-1.068382</td>\n",
              "      <td>-9.673651</td>\n",
              "      <td>-6.867001</td>\n",
              "      <td>-3.997594</td>\n",
              "      <td>0.214322</td>\n",
              "      <td>7.171895</td>\n",
              "      <td>-1.189227</td>\n",
              "      <td>-2.533823</td>\n",
              "    </tr>\n",
              "    <tr>\n",
              "      <th>2998999</th>\n",
              "      <td>3.632291</td>\n",
              "      <td>-2.227647</td>\n",
              "      <td>1.129539</td>\n",
              "      <td>0.093667</td>\n",
              "      <td>0.641177</td>\n",
              "      <td>-0.884735</td>\n",
              "      <td>0.580350</td>\n",
              "      <td>1.435499</td>\n",
              "      <td>1.251442</td>\n",
              "      <td>3.082336</td>\n",
              "      <td>-2.654407</td>\n",
              "      <td>-1.007501</td>\n",
              "      <td>-3.021507</td>\n",
              "      <td>-5.096014</td>\n",
              "      <td>-2.594540</td>\n",
              "      <td>-0.884801</td>\n",
              "      <td>-2.166050</td>\n",
              "      <td>5.096700</td>\n",
              "      <td>-1.067156</td>\n",
              "      <td>1.433462</td>\n",
              "    </tr>\n",
              "  </tbody>\n",
              "</table>\n",
              "<p>2999000 rows × 20 columns</p>\n",
              "</div>\n",
              "    <div class=\"colab-df-buttons\">\n",
              "\n",
              "  <div class=\"colab-df-container\">\n",
              "    <button class=\"colab-df-convert\" onclick=\"convertToInteractive('df-51f4676f-0748-4f02-9504-3a4606777c35')\"\n",
              "            title=\"Convert this dataframe to an interactive table.\"\n",
              "            style=\"display:none;\">\n",
              "\n",
              "  <svg xmlns=\"http://www.w3.org/2000/svg\" height=\"24px\" viewBox=\"0 -960 960 960\">\n",
              "    <path d=\"M120-120v-720h720v720H120Zm60-500h600v-160H180v160Zm220 220h160v-160H400v160Zm0 220h160v-160H400v160ZM180-400h160v-160H180v160Zm440 0h160v-160H620v160ZM180-180h160v-160H180v160Zm440 0h160v-160H620v160Z\"/>\n",
              "  </svg>\n",
              "    </button>\n",
              "\n",
              "  <style>\n",
              "    .colab-df-container {\n",
              "      display:flex;\n",
              "      gap: 12px;\n",
              "    }\n",
              "\n",
              "    .colab-df-convert {\n",
              "      background-color: #E8F0FE;\n",
              "      border: none;\n",
              "      border-radius: 50%;\n",
              "      cursor: pointer;\n",
              "      display: none;\n",
              "      fill: #1967D2;\n",
              "      height: 32px;\n",
              "      padding: 0 0 0 0;\n",
              "      width: 32px;\n",
              "    }\n",
              "\n",
              "    .colab-df-convert:hover {\n",
              "      background-color: #E2EBFA;\n",
              "      box-shadow: 0px 1px 2px rgba(60, 64, 67, 0.3), 0px 1px 3px 1px rgba(60, 64, 67, 0.15);\n",
              "      fill: #174EA6;\n",
              "    }\n",
              "\n",
              "    .colab-df-buttons div {\n",
              "      margin-bottom: 4px;\n",
              "    }\n",
              "\n",
              "    [theme=dark] .colab-df-convert {\n",
              "      background-color: #3B4455;\n",
              "      fill: #D2E3FC;\n",
              "    }\n",
              "\n",
              "    [theme=dark] .colab-df-convert:hover {\n",
              "      background-color: #434B5C;\n",
              "      box-shadow: 0px 1px 3px 1px rgba(0, 0, 0, 0.15);\n",
              "      filter: drop-shadow(0px 1px 2px rgba(0, 0, 0, 0.3));\n",
              "      fill: #FFFFFF;\n",
              "    }\n",
              "  </style>\n",
              "\n",
              "    <script>\n",
              "      const buttonEl =\n",
              "        document.querySelector('#df-51f4676f-0748-4f02-9504-3a4606777c35 button.colab-df-convert');\n",
              "      buttonEl.style.display =\n",
              "        google.colab.kernel.accessAllowed ? 'block' : 'none';\n",
              "\n",
              "      async function convertToInteractive(key) {\n",
              "        const element = document.querySelector('#df-51f4676f-0748-4f02-9504-3a4606777c35');\n",
              "        const dataTable =\n",
              "          await google.colab.kernel.invokeFunction('convertToInteractive',\n",
              "                                                    [key], {});\n",
              "        if (!dataTable) return;\n",
              "\n",
              "        const docLinkHtml = 'Like what you see? Visit the ' +\n",
              "          '<a target=\"_blank\" href=https://colab.research.google.com/notebooks/data_table.ipynb>data table notebook</a>'\n",
              "          + ' to learn more about interactive tables.';\n",
              "        element.innerHTML = '';\n",
              "        dataTable['output_type'] = 'display_data';\n",
              "        await google.colab.output.renderOutput(dataTable, element);\n",
              "        const docLink = document.createElement('div');\n",
              "        docLink.innerHTML = docLinkHtml;\n",
              "        element.appendChild(docLink);\n",
              "      }\n",
              "    </script>\n",
              "  </div>\n",
              "\n",
              "\n",
              "<div id=\"df-abadba63-3991-4a72-8b05-59ec78b4d6e6\">\n",
              "  <button class=\"colab-df-quickchart\" onclick=\"quickchart('df-abadba63-3991-4a72-8b05-59ec78b4d6e6')\"\n",
              "            title=\"Suggest charts\"\n",
              "            style=\"display:none;\">\n",
              "\n",
              "<svg xmlns=\"http://www.w3.org/2000/svg\" height=\"24px\"viewBox=\"0 0 24 24\"\n",
              "     width=\"24px\">\n",
              "    <g>\n",
              "        <path d=\"M19 3H5c-1.1 0-2 .9-2 2v14c0 1.1.9 2 2 2h14c1.1 0 2-.9 2-2V5c0-1.1-.9-2-2-2zM9 17H7v-7h2v7zm4 0h-2V7h2v10zm4 0h-2v-4h2v4z\"/>\n",
              "    </g>\n",
              "</svg>\n",
              "  </button>\n",
              "\n",
              "<style>\n",
              "  .colab-df-quickchart {\n",
              "      --bg-color: #E8F0FE;\n",
              "      --fill-color: #1967D2;\n",
              "      --hover-bg-color: #E2EBFA;\n",
              "      --hover-fill-color: #174EA6;\n",
              "      --disabled-fill-color: #AAA;\n",
              "      --disabled-bg-color: #DDD;\n",
              "  }\n",
              "\n",
              "  [theme=dark] .colab-df-quickchart {\n",
              "      --bg-color: #3B4455;\n",
              "      --fill-color: #D2E3FC;\n",
              "      --hover-bg-color: #434B5C;\n",
              "      --hover-fill-color: #FFFFFF;\n",
              "      --disabled-bg-color: #3B4455;\n",
              "      --disabled-fill-color: #666;\n",
              "  }\n",
              "\n",
              "  .colab-df-quickchart {\n",
              "    background-color: var(--bg-color);\n",
              "    border: none;\n",
              "    border-radius: 50%;\n",
              "    cursor: pointer;\n",
              "    display: none;\n",
              "    fill: var(--fill-color);\n",
              "    height: 32px;\n",
              "    padding: 0;\n",
              "    width: 32px;\n",
              "  }\n",
              "\n",
              "  .colab-df-quickchart:hover {\n",
              "    background-color: var(--hover-bg-color);\n",
              "    box-shadow: 0 1px 2px rgba(60, 64, 67, 0.3), 0 1px 3px 1px rgba(60, 64, 67, 0.15);\n",
              "    fill: var(--button-hover-fill-color);\n",
              "  }\n",
              "\n",
              "  .colab-df-quickchart-complete:disabled,\n",
              "  .colab-df-quickchart-complete:disabled:hover {\n",
              "    background-color: var(--disabled-bg-color);\n",
              "    fill: var(--disabled-fill-color);\n",
              "    box-shadow: none;\n",
              "  }\n",
              "\n",
              "  .colab-df-spinner {\n",
              "    border: 2px solid var(--fill-color);\n",
              "    border-color: transparent;\n",
              "    border-bottom-color: var(--fill-color);\n",
              "    animation:\n",
              "      spin 1s steps(1) infinite;\n",
              "  }\n",
              "\n",
              "  @keyframes spin {\n",
              "    0% {\n",
              "      border-color: transparent;\n",
              "      border-bottom-color: var(--fill-color);\n",
              "      border-left-color: var(--fill-color);\n",
              "    }\n",
              "    20% {\n",
              "      border-color: transparent;\n",
              "      border-left-color: var(--fill-color);\n",
              "      border-top-color: var(--fill-color);\n",
              "    }\n",
              "    30% {\n",
              "      border-color: transparent;\n",
              "      border-left-color: var(--fill-color);\n",
              "      border-top-color: var(--fill-color);\n",
              "      border-right-color: var(--fill-color);\n",
              "    }\n",
              "    40% {\n",
              "      border-color: transparent;\n",
              "      border-right-color: var(--fill-color);\n",
              "      border-top-color: var(--fill-color);\n",
              "    }\n",
              "    60% {\n",
              "      border-color: transparent;\n",
              "      border-right-color: var(--fill-color);\n",
              "    }\n",
              "    80% {\n",
              "      border-color: transparent;\n",
              "      border-right-color: var(--fill-color);\n",
              "      border-bottom-color: var(--fill-color);\n",
              "    }\n",
              "    90% {\n",
              "      border-color: transparent;\n",
              "      border-bottom-color: var(--fill-color);\n",
              "    }\n",
              "  }\n",
              "</style>\n",
              "\n",
              "  <script>\n",
              "    async function quickchart(key) {\n",
              "      const quickchartButtonEl =\n",
              "        document.querySelector('#' + key + ' button');\n",
              "      quickchartButtonEl.disabled = true;  // To prevent multiple clicks.\n",
              "      quickchartButtonEl.classList.add('colab-df-spinner');\n",
              "      try {\n",
              "        const charts = await google.colab.kernel.invokeFunction(\n",
              "            'suggestCharts', [key], {});\n",
              "      } catch (error) {\n",
              "        console.error('Error during call to suggestCharts:', error);\n",
              "      }\n",
              "      quickchartButtonEl.classList.remove('colab-df-spinner');\n",
              "      quickchartButtonEl.classList.add('colab-df-quickchart-complete');\n",
              "    }\n",
              "    (() => {\n",
              "      let quickchartButtonEl =\n",
              "        document.querySelector('#df-abadba63-3991-4a72-8b05-59ec78b4d6e6 button');\n",
              "      quickchartButtonEl.style.display =\n",
              "        google.colab.kernel.accessAllowed ? 'block' : 'none';\n",
              "    })();\n",
              "  </script>\n",
              "</div>\n",
              "    </div>\n",
              "  </div>\n"
            ],
            "application/vnd.google.colaboratory.intrinsic+json": {
              "type": "dataframe",
              "variable_name": "raw_df"
            }
          },
          "metadata": {},
          "execution_count": 3
        }
      ],
      "source": [
        "os.chdir(raw_data_folder)\n",
        "mat_files = glob.glob(\"*.mat\")\n",
        "\n",
        "data_dict = {}\n",
        "\n",
        "for file in mat_files[:20]:\n",
        "    # Load the .mat file using scipy.io.loadmat\n",
        "    mat = scipy.io.loadmat(file)\n",
        "    data_dict[file[27:30]] = np.concatenate(mat['data'])\n",
        "\n",
        "print(data_dict.keys())\n",
        "raw_df = pd.DataFrame.from_dict(data_dict, orient='columns')\n",
        "raw_df"
      ]
    },
    {
      "cell_type": "markdown",
      "metadata": {
        "id": "2IHH__MJTbCC"
      },
      "source": [
        "Absolute values of the raw data"
      ]
    },
    {
      "cell_type": "code",
      "execution_count": 4,
      "metadata": {
        "id": "LJSQ25MmTXI6"
      },
      "outputs": [],
      "source": [
        "#raw_df = raw_df.abs()"
      ]
    },
    {
      "cell_type": "markdown",
      "metadata": {
        "id": "jrJNA7iGn_Rx"
      },
      "source": [
        "*   0 - no spike\n",
        "*   1 - spike\n"
      ]
    },
    {
      "cell_type": "markdown",
      "metadata": {
        "id": "BceX2-u-UL8F"
      },
      "source": [
        "example data"
      ]
    },
    {
      "cell_type": "code",
      "execution_count": 5,
      "metadata": {
        "colab": {
          "base_uri": "https://localhost:8080/",
          "height": 400
        },
        "id": "HW6E-AScFX2E",
        "outputId": "a391c4dc-7658-445e-d090-71484f294be9"
      },
      "outputs": [
        {
          "output_type": "display_data",
          "data": {
            "text/plain": [
              "<Figure size 2500x700 with 1 Axes>"
            ],
            "image/png": "[encoded data removed]"
          },
          "metadata": {}
        }
      ],
      "source": [
        "plt.figure(figsize=(25,7))\n",
        "plt.plot(raw_df['A06'], linewidth = 1)\n",
        "plt.show()"
      ]
    },
    {
      "cell_type": "markdown",
      "metadata": {
        "id": "5X7_2a7rD7PX"
      },
      "source": [
        "# Data Pre-Processing"
      ]
    },
    {
      "cell_type": "markdown",
      "metadata": {
        "id": "9NoO8ZxAURjk"
      },
      "source": [
        "variables"
      ]
    },
    {
      "cell_type": "code",
      "execution_count": 6,
      "metadata": {
        "id": "8aY-oZEbEvEm"
      },
      "outputs": [],
      "source": [
        "neurons = ['B01', 'B03', 'A06', 'B02', 'B05', 'C06', 'C03', 'C02', 'C05', 'C04', 'A02', 'A05', 'B07', 'C01', 'A03', 'D01', 'B06', 'C07'] # neurons data\n",
        "\n",
        "n_data_points = 10 # number of data points considered for training # V n=2, 1<t<10\n",
        "t_data_points = 5 # number of FUTURE data points in which is predicted if there is a spike or no"
      ]
    },
    {
      "cell_type": "code",
      "execution_count": 7,
      "metadata": {
        "id": "hs9ONRt1AzAh"
      },
      "outputs": [],
      "source": [
        "# scaler = MinMaxScaler(feature_range=(-1,1))\n",
        "\n",
        "# raw_df_norm = scaler.fit_transform(raw_df)\n",
        "\n",
        "# raw_df_norm = pd.DataFrame(raw_df_norm, columns=raw_df.columns)"
      ]
    },
    {
      "cell_type": "code",
      "execution_count": 9,
      "metadata": {
        "colab": {
          "base_uri": "https://localhost:8080/"
        },
        "id": "oXUUD_MZuE9P",
        "outputId": "a9a8ad99-0d5e-4277-c8a0-052038779664"
      },
      "outputs": [
        {
          "output_type": "execute_result",
          "data": {
            "text/plain": [
              "(20, 2999000)"
            ]
          },
          "metadata": {},
          "execution_count": 9
        }
      ],
      "source": [
        "from scipy import stats\n",
        "\n",
        "#raw_df_norm = raw_df_norm[neurons]\n",
        "\n",
        "raw_data = raw_df.values.T # raw_df_norm\n",
        "# raw_data = stats.zscore(raw_data, axis=None)\n",
        "\n",
        "raw_data.shape"
      ]
    },
    {
      "cell_type": "markdown",
      "metadata": {
        "id": "ijV8nI4S3MW4"
      },
      "source": [
        "Split RAW data; Input-Output"
      ]
    },
    {
      "cell_type": "code",
      "execution_count": 10,
      "metadata": {
        "colab": {
          "base_uri": "https://localhost:8080/"
        },
        "id": "VgccTfPSshHQ",
        "outputId": "c2b74dcb-3403-4e12-d0d5-de846a41a200"
      },
      "outputs": [
        {
          "output_type": "execute_result",
          "data": {
            "text/plain": [
              "((5997980, 10), (5997980, 5))"
            ]
          },
          "metadata": {},
          "execution_count": 10
        }
      ],
      "source": [
        "smaller_parts = []\n",
        "samp = []\n",
        "\n",
        "labels = []\n",
        "\n",
        "# Split each sample into smaller parts\n",
        "for sample in range(0, raw_data.shape[0]):  # Transpose the array to iterate over samples\n",
        "    num_parts = raw_data[sample].shape[0] // n_data_points\n",
        "    for i in range(num_parts-1):\n",
        "        raw_part = raw_data[sample][i * n_data_points: (i + 1) * n_data_points]\n",
        "        smaller_parts.append(raw_part)\n",
        "        future = raw_data[sample][(i + 1) * n_data_points : ((i + 1) * n_data_points + t_data_points)]\n",
        "        labels.append(future)\n",
        "\n",
        "# Convert the list of smaller parts to a NumPy array\n",
        "raw_split_data = np.array(smaller_parts)\n",
        "labels = np.array(labels)\n",
        "\n",
        "raw_split_data.shape, labels.shape"
      ]
    },
    {
      "cell_type": "code",
      "execution_count": 11,
      "metadata": {
        "colab": {
          "base_uri": "https://localhost:8080/"
        },
        "id": "aSzjES4H3SYh",
        "outputId": "f0ce2cb8-8290-45f5-e958-b6d112e57295"
      },
      "outputs": [
        {
          "output_type": "execute_result",
          "data": {
            "text/plain": [
              "array([[ 0.03121687,  0.88570905,  0.58053327,  0.03121687, -4.36331438],\n",
              "       [-0.88431048, -0.51809954, -2.34915423, -2.28811907, -0.94534563],\n",
              "       [-6.07229876,  1.19088484, -0.21292376,  1.00777937,  1.00777937],\n",
              "       ...,\n",
              "       [-3.57142082, -3.51038566, -1.06897941, -0.82483879,  0.45689949],\n",
              "       [-1.06897941, -5.2804052 , -1.31312004, -3.69349113,  1.12828621],\n",
              "       [-1.67933098, -0.03138176, -3.38831535,  2.41002449,  0.94518074]])"
            ]
          },
          "metadata": {},
          "execution_count": 11
        }
      ],
      "source": [
        "labels"
      ]
    },
    {
      "cell_type": "code",
      "execution_count": 12,
      "metadata": {
        "id": "AAD8nvA9eQJh"
      },
      "outputs": [],
      "source": [
        "raw_split_data = np.reshape(raw_split_data, (raw_split_data.shape[0], 1, raw_split_data.shape[1]))"
      ]
    },
    {
      "cell_type": "markdown",
      "metadata": {
        "id": "9iiTbBsSExvX"
      },
      "source": [
        "# Test-Train split\n",
        "wirth the same ratio of 0s and 1s in test and train data"
      ]
    },
    {
      "cell_type": "code",
      "execution_count": 13,
      "metadata": {
        "colab": {
          "base_uri": "https://localhost:8080/"
        },
        "id": "7zqVMyxjExe_",
        "outputId": "548f3b20-5e4d-4961-eb3e-031bd7a9321e"
      },
      "outputs": [
        {
          "output_type": "stream",
          "name": "stdout",
          "text": [
            "X_train shape: (4798384, 1, 10)\n",
            "X_test shape: (1199596, 1, 10)\n",
            "y_train shape: (4798384, 5)\n",
            "y_test shape: (1199596, 5)\n"
          ]
        }
      ],
      "source": [
        "X_train, X_test, y_train, y_test = train_test_split(raw_split_data, labels, test_size=0.2, random_state=13)\n",
        "\n",
        "print(\"X_train shape:\", X_train.shape)\n",
        "print(\"X_test shape:\", X_test.shape)\n",
        "print(\"y_train shape:\", y_train.shape)\n",
        "print(\"y_test shape:\", y_test.shape)"
      ]
    },
    {
      "cell_type": "code",
      "execution_count": 14,
      "metadata": {
        "colab": {
          "base_uri": "https://localhost:8080/"
        },
        "id": "nE3unG34omEv",
        "outputId": "ac96f557-658a-4a74-816d-547936483a94"
      },
      "outputs": [
        {
          "output_type": "execute_result",
          "data": {
            "text/plain": [
              "array([-4.54669806, -1.73908087,  2.899591  ,  1.25164178,  0.58025506])"
            ]
          },
          "metadata": {},
          "execution_count": 14
        }
      ],
      "source": [
        "y_test[143]"
      ]
    },
    {
      "cell_type": "markdown",
      "metadata": {
        "id": "KjSMCCdqEUZl"
      },
      "source": [
        "# Model"
      ]
    },
    {
      "cell_type": "code",
      "execution_count": 15,
      "metadata": {
        "id": "t6nyCW3EUdlM"
      },
      "outputs": [],
      "source": [
        "model = Sequential()\n",
        "model.add(GRU(n_data_points, input_shape=(1, n_data_points), return_sequences=True))  # Input layer with 64 neurons and ReLU activation\n",
        "model.add(GRU(units=32, return_sequences=True))\n",
        "model.add(GRU(units=16, return_sequences=False))\n",
        "#model.add(GRU(units=16, return_sequences=False))\n",
        "model.add(Dense(8, activation='tanh'))\n",
        "model.add(Dense(t_data_points, activation='linear'))  # Output layer with 5 neurons and sigmoid activation (binary classification)\n",
        "\n",
        "# Specify class weights\n",
        "class_weights = {0: 1, 1: 200}\n",
        "\n",
        "model.compile(optimizer='adam', loss='mse')  # Binary cross-entropy loss for binary classification #  metrics=['accuracy']"
      ]
    },
    {
      "cell_type": "code",
      "execution_count": 16,
      "metadata": {
        "colab": {
          "base_uri": "https://localhost:8080/",
          "height": 644
        },
        "id": "ev-c-KEVIi2o",
        "outputId": "b3cfac11-b64e-46c4-825d-ff67ebeddf7f"
      },
      "outputs": [
        {
          "output_type": "execute_result",
          "data": {
            "image/png": "[encoded data removed]",
            "text/plain": [
              "<IPython.core.display.Image object>"
            ]
          },
          "metadata": {},
          "execution_count": 16
        }
      ],
      "source": [
        "import tensorflow as tf\n",
        "\n",
        "tf.keras.utils.plot_model(\n",
        "    model,\n",
        "    to_file=\"img_model.png\",\n",
        "    show_shapes=False,\n",
        "    show_layer_names=True,\n",
        "    rankdir=\"TB\",\n",
        "    expand_nested=False,\n",
        "    dpi=96,\n",
        ")\n",
        "\n",
        "tf.keras.utils.plot_model(model, show_shapes=True)"
      ]
    },
    {
      "cell_type": "markdown",
      "metadata": {
        "id": "94u5YGRjzYsX"
      },
      "source": [
        "class_weight=class_weights,"
      ]
    },
    {
      "cell_type": "code",
      "execution_count": 17,
      "metadata": {
        "colab": {
          "base_uri": "https://localhost:8080/"
        },
        "id": "tSERyGr8XU0G",
        "outputId": "102ff8f7-5c45-4275-d4cf-139017d7bb4b"
      },
      "outputs": [
        {
          "output_type": "stream",
          "name": "stdout",
          "text": [
            "Epoch 1/5\n",
            "149950/149950 [==============================] - 980s 6ms/step - loss: 8.3492 - val_loss: 8.1646\n",
            "Epoch 2/5\n",
            "149950/149950 [==============================] - 928s 6ms/step - loss: 8.1757 - val_loss: 8.1003\n",
            "Epoch 3/5\n",
            "149950/149950 [==============================] - 884s 6ms/step - loss: 8.1085 - val_loss: 8.0248\n",
            "Epoch 4/5\n",
            "149950/149950 [==============================] - 874s 6ms/step - loss: 8.0739 - val_loss: 7.9634\n",
            "Epoch 5/5\n",
            "149950/149950 [==============================] - 944s 6ms/step - loss: 8.0556 - val_loss: 7.8905\n"
          ]
        }
      ],
      "source": [
        "history_model = model.fit(X_train, y_train, epochs=5, batch_size=32, verbose=1, validation_data=(X_test, y_test))"
      ]
    },
    {
      "cell_type": "code",
      "execution_count": 18,
      "metadata": {
        "colab": {
          "base_uri": "https://localhost:8080/"
        },
        "id": "LMsalfnilt8w",
        "outputId": "74e9e501-605f-4fe1-9f0e-db88d8de8621"
      },
      "outputs": [
        {
          "output_type": "stream",
          "name": "stdout",
          "text": [
            "Saved model to disk\n"
          ]
        }
      ],
      "source": [
        "# serialize model to JSON\n",
        "model_json = model.to_json()\n",
        "with open(\"/content/drive/MyDrive/models/model_GRU_notNorm_10_5.json\", \"w\") as json_file:\n",
        "    json_file.write(model_json)\n",
        "# serialize weights to HDF5\n",
        "model.save_weights(\"/content/drive/MyDrive/models/model_GRU_notNorm_10_5.h5\")\n",
        "print(\"Saved model to disk\")"
      ]
    },
    {
      "cell_type": "code",
      "execution_count": 19,
      "metadata": {
        "colab": {
          "base_uri": "https://localhost:8080/"
        },
        "id": "iXqBWkrAlKAG",
        "outputId": "7d77cc48-d99f-4850-8d38-eee61f9a5f5a"
      },
      "outputs": [
        {
          "output_type": "stream",
          "name": "stdout",
          "text": [
            "37488/37488 [==============================] - 88s 2ms/step\n"
          ]
        }
      ],
      "source": [
        "pred = model.predict(X_test)"
      ]
    },
    {
      "cell_type": "code",
      "execution_count": 20,
      "metadata": {
        "colab": {
          "base_uri": "https://localhost:8080/"
        },
        "id": "p_ZLfqqFlSFC",
        "outputId": "6eab7cf5-f631-4d79-9818-9dfe9eb21c4c"
      },
      "outputs": [
        {
          "output_type": "execute_result",
          "data": {
            "text/plain": [
              "(1199596, 5)"
            ]
          },
          "metadata": {},
          "execution_count": 20
        }
      ],
      "source": [
        "pred.shape"
      ]
    },
    {
      "cell_type": "code",
      "execution_count": 21,
      "metadata": {
        "colab": {
          "base_uri": "https://localhost:8080/"
        },
        "id": "ztoOd0ewl73u",
        "outputId": "b1aee4df-6374-479d-fe9d-8ddfbfc042cc"
      },
      "outputs": [
        {
          "output_type": "execute_result",
          "data": {
            "text/plain": [
              "array([-1.2563314, -1.2683544, -1.2231418, -1.1349332, -1.094398 ],\n",
              "      dtype=float32)"
            ]
          },
          "metadata": {},
          "execution_count": 21
        }
      ],
      "source": [
        "pred[143]"
      ]
    },
    {
      "cell_type": "code",
      "execution_count": 22,
      "metadata": {
        "colab": {
          "base_uri": "https://localhost:8080/"
        },
        "id": "n6iSWX8C6XS5",
        "outputId": "77808bbc-44b0-4ed2-cd08-d3f8ab983af7"
      },
      "outputs": [
        {
          "output_type": "execute_result",
          "data": {
            "text/plain": [
              "array([[ 1.1226854 ,  1.0391104 ,  0.99530756,  0.9821529 ,  0.93170726],\n",
              "       [-1.3152975 , -1.1578848 , -1.0216786 , -0.8950888 , -0.83525276],\n",
              "       [ 0.85146236,  0.6173808 ,  0.50194395,  0.465551  ,  0.40919566],\n",
              "       ...,\n",
              "       [ 1.1295922 ,  1.0508337 ,  1.0092971 ,  0.99689513,  0.9466664 ],\n",
              "       [-0.01894534,  0.04066449,  0.09725668,  0.15424716,  0.1577301 ],\n",
              "       [-0.10409105, -0.19984245, -0.22122383, -0.19326866, -0.20175481]],\n",
              "      dtype=float32)"
            ]
          },
          "metadata": {},
          "execution_count": 22
        }
      ],
      "source": [
        "pred"
      ]
    },
    {
      "cell_type": "code",
      "execution_count": 23,
      "metadata": {
        "colab": {
          "base_uri": "https://localhost:8080/",
          "height": 542
        },
        "id": "mKBuTksvIKwq",
        "outputId": "370f5311-e65b-4c50-fb2e-4a774c743035"
      },
      "outputs": [
        {
          "output_type": "display_data",
          "data": {
            "text/plain": [
              "<Figure size 1000x600 with 1 Axes>"
            ],
            "image/png": "[encoded data removed]"
          },
          "metadata": {}
        }
      ],
      "source": [
        "plt.figure(figsize=(10,6))\n",
        "plt.plot(history_model.history['loss'], 'm', linewidth=3)\n",
        "plt.plot(history_model.history['val_loss'], 'b', linewidth=3)\n",
        "plt.legend(['loss', 'val_loss'], fontsize=13)\n",
        "plt.xlabel('epochs')\n",
        "plt.ylabel('loss', fontsize=12)\n",
        "plt.grid(True)\n",
        "plt.show()"
      ]
    },
    {
      "cell_type": "code",
      "execution_count": 25,
      "metadata": {
        "colab": {
          "base_uri": "https://localhost:8080/"
        },
        "id": "obwhLuzKioVK",
        "outputId": "c97863d5-3272-46c6-a8a2-7233f2901be9"
      },
      "outputs": [
        {
          "output_type": "stream",
          "name": "stdout",
          "text": [
            "Mean Absolute Error: 2.076352998522873\n"
          ]
        }
      ],
      "source": [
        "#inv = scaler.inverse_transform(pred)\n",
        "\n",
        "from sklearn.metrics import mean_absolute_error\n",
        "\n",
        "# Assuming y_true and y_pred are your two arrays\n",
        "mae = mean_absolute_error(y_test, pred)\n",
        "print(\"Mean Absolute Error:\", mae)"
      ]
    }
  ],
  "metadata": {
    "colab": {
      "provenance": [],
      "mount_file_id": "16bN8inKirAOSeE9-4n30O0yR52s4UnOB",
      "authorship_tag": "ABX9TyPtQVz02aI41HPbL2JDdtpT"
    },
    "kernelspec": {
      "display_name": "Python 3",
      "name": "python3"
    },
    "language_info": {
      "name": "python"
    }
  },
  "nbformat": 4,
  "nbformat_minor": 0
}